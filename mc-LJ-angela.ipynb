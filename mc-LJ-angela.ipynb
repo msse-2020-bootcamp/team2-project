{
 "cells": [
  {
   "cell_type": "markdown",
   "metadata": {},
   "source": [
    "# Monte Carlo Simulation\n",
    "\n",
    "Working with Lennard-Jones potential today. $$U(r) = 4\\epsilon \\left [ \\left( \\frac{\\sigma}{r} \\right )^{12} - \\left( \\frac{\\sigma}{r} \\right )^6 \\right ]$$\n",
    "\n",
    "Reduced equation: $$ U^*\\left(r_{ij} \\right) = 4 \\left[\\left(\\frac{1}{r^*_{ij}}\\right)^{12} -\\left(\\frac{1}{r^*_{ij}}\\right)^{6} \\right] $$\n"
   ]
  },
  {
   "cell_type": "code",
   "execution_count": 1,
   "metadata": {},
   "outputs": [],
   "source": [
    "import math"
   ]
  },
  {
   "cell_type": "code",
   "execution_count": 2,
   "metadata": {},
   "outputs": [],
   "source": [
    "def calculate_LJ(r_ij):\n",
    "    \"\"\"\n",
    "    The LJ interaction energy between two particles.\n",
    "    \n",
    "    Computes the pairwise Lennard-Jones interaction energy based on the separation distance in reduced units.\n",
    "    \n",
    "    Parameters:\n",
    "    ```````````\n",
    "    r_ij : float\n",
    "        The separation distance in reduced units.\n",
    "    \n",
    "    Returns:\n",
    "    ````````\n",
    "    pairwise energy : float\n",
    "        The pairwise Lennard-Jones interaction energy in reduced units.\n",
    "    \"\"\"\n",
    "    \n",
    "    inverse = 1/r_ij\n",
    "    pairwise_energy = 4 *(math.pow(inverse, 12) - math.pow(inverse, 6))\n",
    "    return pairwise_energy"
   ]
  },
  {
   "cell_type": "code",
   "execution_count": 3,
   "metadata": {},
   "outputs": [],
   "source": [
    "assert calculate_LJ(1) == 0\n",
    "assert calculate_LJ(math.pow(2, 1/6)) == -1"
   ]
  },
  {
   "cell_type": "code",
   "execution_count": 4,
   "metadata": {},
   "outputs": [
    {
     "name": "stdout",
     "output_type": "stream",
     "text": [
      "not none\n"
     ]
    }
   ],
   "source": [
    "a = 1\n",
    "if a is not None:\n",
    "    print('not none')"
   ]
  },
  {
   "cell_type": "code",
   "execution_count": 5,
   "metadata": {},
   "outputs": [],
   "source": [
    "def calculate_distance(coord1, coord2, box_length = None):\n",
    "    \"\"\"\n",
    "    Calculate the distance between two points. When box_length is set, we use the the minimum image convention to calculate.\n",
    "    \n",
    "    Parameters:\n",
    "    ```````````\n",
    "    coord1, coord2 : list\n",
    "        The atomic coordinates [x, y, z]\n",
    "        \n",
    "    box_length : float, optional\n",
    "        The box length. The function assumes the box is a cube.\n",
    "    \n",
    "    Returns:\n",
    "    ````````\n",
    "    distance : float\n",
    "        The distance between the two atoms.\n",
    "    \"\"\"\n",
    "    distance = 0\n",
    "    for i in range(len(coord1)):\n",
    "        coord_dist = coord1[i] - coord2[i]\n",
    "        if box_length:\n",
    "            if abs(coord_dist) > box_length / 2:\n",
    "                coord_dist = coord_dist - (box_length * round(coord_dist / box_length))\n",
    "        distance += coord_dist**2\n",
    "        \n",
    "    distance = math.sqrt(distance)\n",
    "    \n",
    "    return distance\n",
    "\n",
    "def calculate_tail_correction(num_particles, box_length, cutoff):\n",
    "    \"\"\"   \n",
    "    Calculate the long range tail correction   \n",
    "    \"\"\"\n",
    "    const1 = (8 * math.pi * num_particles ** 2) / (3 * box_length ** 3)\n",
    "    const2 = (1/3) * (1 / cutoff)**9 - (1 / cutoff) **3\n",
    "    return const1 * const2"
   ]
  },
  {
   "cell_type": "code",
   "execution_count": 6,
   "metadata": {},
   "outputs": [],
   "source": [
    "point1 = [0,0,0]\n",
    "point2 = [0,0,8]\n",
    "\n",
    "dist1 = calculate_distance(point1, point2, box_length = 10)\n",
    "assert dist1 == 2\n",
    "\n",
    "point3 = [0,0,0]\n",
    "point4 = [0,1,1]\n",
    "\n",
    "dist2 = calculate_distance(point3, point4)\n",
    "assert dist2 == math.sqrt(2)"
   ]
  },
  {
   "cell_type": "code",
   "execution_count": 7,
   "metadata": {},
   "outputs": [],
   "source": [
    "coordinates = [[0, 0, 0], [0, math.pow(2, 1/6), 0], [0, 2*math.pow(2, 1/6), 0]]"
   ]
  },
  {
   "cell_type": "code",
   "execution_count": 8,
   "metadata": {},
   "outputs": [],
   "source": [
    "def calculate_total_energy(coords, cutoff, box_length=None):\n",
    "    \"\"\"\n",
    "\n",
    "    Calculates the total interaction energy existing among a set of coordinates.\n",
    "    \n",
    "    Parameters:\n",
    "    ```````````\n",
    "    coords : list\n",
    "        Nested list of coordinates [x,y,z]\n",
    "    cutoff : float\n",
    "        The cutoff distance for the system\n",
    "        \n",
    "    Returns:\n",
    "    ````````\n",
    "    total_energy : float\n",
    "        The total interaction energy calculated from LJ potential.\n",
    "    \"\"\"\n",
    "    \n",
    "    total_energy = 0\n",
    "    \n",
    "    num_atoms = len(coords)\n",
    "    \n",
    "    for i in range(num_atoms):\n",
    "        for j in range(i+1, num_atoms):\n",
    "            dist = calculate_distance(coords[i], coords[j], box_length=box_length)\n",
    "            if dist < cutoff:\n",
    "                energy = calculate_LJ(dist)\n",
    "                total_energy += energy\n",
    "    \n",
    "    return total_energy"
   ]
  },
  {
   "cell_type": "code",
   "execution_count": 9,
   "metadata": {
    "scrolled": true
   },
   "outputs": [
    {
     "ename": "NameError",
     "evalue": "name 'atomic_coordinates' is not defined",
     "output_type": "error",
     "traceback": [
      "\u001b[0;31m---------------------------------------------------------------------------\u001b[0m",
      "\u001b[0;31mNameError\u001b[0m                                 Traceback (most recent call last)",
      "\u001b[0;32m<ipython-input-9-5d94164e31dc>\u001b[0m in \u001b[0;36m<module>\u001b[0;34m\u001b[0m\n\u001b[0;32m----> 1\u001b[0;31m \u001b[0mcalculate_total_energy\u001b[0m\u001b[0;34m(\u001b[0m\u001b[0matomic_coordinates\u001b[0m\u001b[0;34m,\u001b[0m \u001b[0;36m3\u001b[0m\u001b[0;34m,\u001b[0m \u001b[0;36m10\u001b[0m\u001b[0;34m)\u001b[0m\u001b[0;34m\u001b[0m\u001b[0;34m\u001b[0m\u001b[0m\n\u001b[0m",
      "\u001b[0;31mNameError\u001b[0m: name 'atomic_coordinates' is not defined"
     ]
    }
   ],
   "source": [
    "calculate_total_energy(atomic_coordinates, 3, 10)"
   ]
  },
  {
   "cell_type": "code",
   "execution_count": null,
   "metadata": {},
   "outputs": [],
   "source": [
    "len(atomic_coordinates)"
   ]
  },
  {
   "cell_type": "markdown",
   "metadata": {},
   "source": [
    "## Calculating energy from NIST data"
   ]
  },
  {
   "cell_type": "code",
   "execution_count": null,
   "metadata": {},
   "outputs": [],
   "source": [
    "import os"
   ]
  },
  {
   "cell_type": "code",
   "execution_count": null,
   "metadata": {},
   "outputs": [],
   "source": [
    "def read_xyz(filepath):\n",
    "    \"\"\"\n",
    "    Reads coordinates from an xyz file.\n",
    "    \n",
    "    Parameters\n",
    "    ----------\n",
    "    filepath : str\n",
    "       The path to the xyz file to be processed.\n",
    "       \n",
    "    Returns\n",
    "    -------\n",
    "    atomic_coordinates : list\n",
    "        A two dimensional list containing atomic coordinates\n",
    "    \"\"\"\n",
    "    \n",
    "    with open(filepath) as f:\n",
    "        box_length = float(f.readline().split()[0])\n",
    "        num_atoms = float(f.readline())\n",
    "        coordinates = f.readlines()\n",
    "    \n",
    "    atomic_coordinates = []\n",
    "    \n",
    "    for atom in coordinates:\n",
    "        split_atoms = atom.split()\n",
    "        \n",
    "        float_coords = []\n",
    "        \n",
    "        # We split this way to get rid of the atom label.\n",
    "        for coord in split_atoms[1:]:\n",
    "            float_coords.append(float(coord))\n",
    "            \n",
    "        atomic_coordinates.append(float_coords)\n",
    "        \n",
    "    \n",
    "    return atomic_coordinates, box_length\n"
   ]
  },
  {
   "cell_type": "code",
   "execution_count": null,
   "metadata": {},
   "outputs": [],
   "source": [
    "filename = os.path.join('lj_sample_configurations', 'lj_sample_config_periodic1.txt')\n",
    "atomic_coordinates, box_length = read_xyz(filename)"
   ]
  },
  {
   "cell_type": "code",
   "execution_count": null,
   "metadata": {
    "scrolled": false
   },
   "outputs": [],
   "source": [
    "calculate_total_energy(atomic_coordinates,3,10)"
   ]
  },
  {
   "cell_type": "markdown",
   "metadata": {},
   "source": [
    "#Flow of Calculations"
   ]
  },
  {
   "cell_type": "code",
   "execution_count": null,
   "metadata": {},
   "outputs": [],
   "source": [
    "def accept_or_reject(delta_e, beta):\n",
    "    \"\"\"\n",
    "    Accept or reject based on change in energy and temperature.\n",
    "    \"\"\"\n",
    "    \n",
    "    if delta_e <= 0:\n",
    "        accept = True\n",
    "    else:\n",
    "        random_number = random.random()\n",
    "        p_acc = math.exp(-beta*delta_e)\n",
    "        \n",
    "        if random_number < p_acc:\n",
    "            accept = True\n",
    "        else:\n",
    "            accept =False\n",
    "            \n",
    "    return accept"
   ]
  },
  {
   "cell_type": "code",
   "execution_count": null,
   "metadata": {},
   "outputs": [],
   "source": [
    "delta_energy = -1\n",
    "beta = 1\n",
    "assert accept_or_reject(delta_energy, beta) is True"
   ]
  },
  {
   "cell_type": "code",
   "execution_count": null,
   "metadata": {},
   "outputs": [],
   "source": [
    "delta_energy = 0\n",
    "beta = 1\n",
    "assert accept_or_reject(delta_energy, beta) is True"
   ]
  },
  {
   "cell_type": "code",
   "execution_count": null,
   "metadata": {},
   "outputs": [],
   "source": [
    "import random\n",
    "\n",
    "random.seed(0)\n",
    "random.random()"
   ]
  },
  {
   "cell_type": "code",
   "execution_count": null,
   "metadata": {},
   "outputs": [],
   "source": [
    "delta_energy = 1\n",
    "beta = 1\n",
    "p_acc = math.exp(-1)\n",
    "print(p_acc)"
   ]
  },
  {
   "cell_type": "code",
   "execution_count": null,
   "metadata": {},
   "outputs": [],
   "source": [
    "random.seed(0)\n",
    "delta_e = 1\n",
    "beta = 1\n",
    "assert accept_or_reject(delta_e,beta) is False"
   ]
  },
  {
   "cell_type": "code",
   "execution_count": null,
   "metadata": {},
   "outputs": [],
   "source": [
    "random.seed(1)\n",
    "delta_e = 1\n",
    "beta = 1\n",
    "assert accept_or_reject(delta_e,beta) is True"
   ]
  },
  {
   "cell_type": "code",
   "execution_count": null,
   "metadata": {},
   "outputs": [],
   "source": [
    "#Unset random seed\n",
    "random.seed()"
   ]
  },
  {
   "cell_type": "code",
   "execution_count": null,
   "metadata": {},
   "outputs": [],
   "source": [
    "def calculate_pair_energy(coordinates, i_particle, box_length, cutoff):\n",
    "    \"\"\"\n",
    "    Calculate the interaction energy of a particle with its environment(all other particles in the system)\n",
    "    \n",
    "    Parameters\n",
    "    ----------\n",
    "    coordinates: list\n",
    "        The coordinates for all the particles in the system.\n",
    "    i_particles: int\n",
    "        The particle index for which to calculate the energy.\n",
    "    box_length: float\n",
    "        The length of the simulation box.\n",
    "    cutoff: float\n",
    "        The simulation cutoff. Beyond this distance, interactions are not calculated.\n",
    "    Returns\n",
    "    -------\n",
    "    e_total: float\n",
    "        The pairwise interaction energy of the i-th particle with all other particles in the system.\n",
    "        \n",
    "    \"\"\"\n",
    "    \n",
    "    e_total = 0\n",
    "    \n",
    "    i_position = coordinates[i_particle]\n",
    "    \n",
    "    num_atoms = len(coordinates)\n",
    "    \n",
    "    for j_particle in range(num_atoms):\n",
    "        if i_particle != j_particle:\n",
    "            j_position = coordinates[j_particle]\n",
    "            dist = calculate_distance(i_position, j_position, box_length)\n",
    "            if dist < cutoff:\n",
    "                energy = calculate_LJ(dist)\n",
    "                e_total += energy\n",
    "    \n",
    "    return e_total"
   ]
  },
  {
   "cell_type": "code",
   "execution_count": null,
   "metadata": {},
   "outputs": [],
   "source": [
    "coordinates = [[0,0,0],[0,0,2**(1/6)],[0,0,2*(2**(1/6))]]\n",
    "\n",
    "assert calculate_pair_energy(coordinates,1,10,3) == -2\n",
    "\n",
    "assert calculate_pair_energy(coordinates,0,10,3) == calculate_pair_energy(coordinates,2,10,3)"
   ]
  },
  {
   "cell_type": "code",
   "execution_count": null,
   "metadata": {},
   "outputs": [],
   "source": [
    "print(calculate_tail_correction(num_particles,box_length,cutoff))\n",
    "\n",
    "print(calculate_total_energy(coordinates,box_length,cutoff))"
   ]
  },
  {
   "cell_type": "markdown",
   "metadata": {},
   "source": [
    "# Simulation Loop"
   ]
  },
  {
   "cell_type": "code",
   "execution_count": null,
   "metadata": {},
   "outputs": [],
   "source": [
    "import os\n",
    "\n",
    "# Set simulation Parameters\n",
    "reduced_temperature = 0.9\n",
    "num_steps = 5000\n",
    "max_displacement = 0.1\n",
    "cutoff = 3\n",
    "\n",
    "# Reporting information\n",
    "freq = 1000\n",
    "steps =[]\n",
    "energies = []\n",
    "\n",
    "# Calculated quantities\n",
    "beta = 1/reduced_temperature\n",
    "\n",
    "# Read initial coordinates\n",
    "file_path = os.path.join('lj_sample_configurations', 'lj_sample_config_periodic1.txt')\n",
    "coordinates, box_length = read_xyz(file_path)\n",
    "num_particles = len(coordinates)\n",
    "\n",
    "total_energy = calculate_total_energy(coordinates,cutoff,box_length)\n",
    "print(total_energy)\n",
    "total_energy += calculate_tail_correction(num_particles,box_length,cutoff)\n",
    "\n",
    "for step in range(num_steps):\n",
    "    \n",
    "    # 1. Randomly pick one of num_particles particles\n",
    "    random_particle = random.randrange(num_particles)\n",
    "    \n",
    "    # 2. Calculate the interaction energy of the selected particle with the system. Store this value.\n",
    "    current_energy = calculate_pair_energy(coordinates, random_particle, box_length, cutoff)\n",
    "    \n",
    "    # 3. Generate a random x,y,z displacement range (-max_displacement, max_displacement)-uniform\n",
    "    x_rand = random.uniform(-max_displacement, max_displacement)\n",
    "    y_rand = random.uniform(-max_displacement, max_displacement)\n",
    "    z_rand = random.uniform(-max_displacement, max_displacement)\n",
    "    \n",
    "    # 4. Modify the coordinate of selected particle by generated displacements.\n",
    "    coordinates[random_particle][0] += x_rand\n",
    "    coordinates[random_particle][1] += y_rand\n",
    "    coordinates[random_particle][2] += z_rand\n",
    "    \n",
    "    # 5. Calculate the new interaction energy of moved particle, store this value.\n",
    "    proposed_energy = calculate_pair_energy(coordinates, random_particle, box_length,cutoff)\n",
    "    \n",
    "    # 6. Calculate energy change and decide if we accept the move.\n",
    "    delta_energy = proposed_energy - current_energy\n",
    "    \n",
    "    accept = accept_or_reject(delta_energy, beta)\n",
    "    \n",
    "    # 7. If accept, keep movement. If not revert to old position.\n",
    "    if accept:\n",
    "        total_energy += delta_energy\n",
    "    else:\n",
    "        # Move is not accepted, roll back coordinates\n",
    "        coordinates[random_particle][0] -= x_rand\n",
    "        coordinates[random_particle][1] -= y_rand\n",
    "        coordinates[random_particle][2] -= z_rand\n",
    "    \n",
    "    # 8. Print the energy and store the coordinates at certain intervals\n",
    "    if step % freq == 0:\n",
    "        print(step, total_energy/num_particles)\n",
    "        steps.append(step)\n",
    "        energies.append(total_energy/num_particles)    "
   ]
  },
  {
   "cell_type": "code",
   "execution_count": null,
   "metadata": {},
   "outputs": [],
   "source": [
    "energies"
   ]
  },
  {
   "cell_type": "code",
   "execution_count": null,
   "metadata": {},
   "outputs": [],
   "source": [
    "import matplotlib.pyplot as plt\n",
    "\n",
    "%matplotlib notebook\n",
    "\n",
    "fig = plt.figure()\n",
    "ax = fig.add_subplot(111)\n",
    "ax.plot(steps, energies)"
   ]
  },
  {
   "cell_type": "code",
   "execution_count": null,
   "metadata": {},
   "outputs": [],
   "source": []
  }
 ],
 "metadata": {
  "kernelspec": {
   "display_name": "Python 3",
   "language": "python",
   "name": "python3"
  },
  "language_info": {
   "codemirror_mode": {
    "name": "ipython",
    "version": 3
   },
   "file_extension": ".py",
   "mimetype": "text/x-python",
   "name": "python",
   "nbconvert_exporter": "python",
   "pygments_lexer": "ipython3",
   "version": "3.7.7"
  }
 },
 "nbformat": 4,
 "nbformat_minor": 4
}
