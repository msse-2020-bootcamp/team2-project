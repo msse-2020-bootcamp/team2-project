{
 "cells": [
  {
   "cell_type": "markdown",
   "metadata": {},
   "source": [
    "# Monte Carlo Simulation\n",
    "Run MC Simulation from imported module"
   ]
  },
  {
   "cell_type": "code",
   "execution_count": 1,
   "metadata": {},
   "outputs": [],
   "source": [
    "import os\n",
    "import mcsim.monte_carlo"
   ]
  },
  {
   "cell_type": "code",
   "execution_count": 2,
   "metadata": {},
   "outputs": [],
   "source": [
    "# help(mcsim.monte_carlo)"
   ]
  },
  {
   "cell_type": "code",
   "execution_count": 3,
   "metadata": {},
   "outputs": [],
   "source": [
    "# set simulation parameters\n",
    "reduced_temperature = 1.5\n",
    "num_steps = 5000\n",
    "max_displacement = 0.1\n",
    "cutoff = 3\n",
    "freq = 1000\n",
    "file_path = os.path.join('lj_sample_configurations', 'lj_sample_config_periodic1.txt')\n",
    "coordinates, box_length = mcsim.monte_carlo.read_xyz(file_path)"
   ]
  },
  {
   "cell_type": "code",
   "execution_count": 4,
   "metadata": {},
   "outputs": [
    {
     "name": "stdout",
     "output_type": "stream",
     "text": [
      "0 -5.687536347860019\n",
      "1000 -5.5715024980396315\n",
      "2000 -5.479879004311839\n",
      "3000 -5.457601455144069\n",
      "4000 -5.392852451298089\n"
     ]
    }
   ],
   "source": [
    "final_coordinates = mcsim.monte_carlo.run_simulation(coordinates, box_length, cutoff, reduced_temperature, num_steps, max_displacement, freq)"
   ]
  }
 ],
 "metadata": {
  "kernelspec": {
   "display_name": "Python 3",
   "language": "python",
   "name": "python3"
  },
  "language_info": {
   "codemirror_mode": {
    "name": "ipython",
    "version": 3
   },
   "file_extension": ".py",
   "mimetype": "text/x-python",
   "name": "python",
   "nbconvert_exporter": "python",
   "pygments_lexer": "ipython3",
   "version": "3.7.7"
  }
 },
 "nbformat": 4,
 "nbformat_minor": 4
}
