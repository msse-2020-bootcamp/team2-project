{
 "cells": [
  {
   "cell_type": "markdown",
   "metadata": {},
   "source": [
    "# Monte Carlo Simulation\n",
    "\n",
    "Working with Lennard-Jones potential today. $$U(r) = 4\\epsilon \\left [ \\left( \\frac{\\sigma}{r} \\right )^{12} - \\left( \\frac{\\sigma}{r} \\right )^6 \\right ]$$\n",
    "\n",
    "Reduced equation: $$ U^*\\left(r_{ij} \\right) = 4 \\left[\\left(\\frac{1}{r^*_{ij}}\\right)^{12} -\\left(\\frac{1}{r^*_{ij}}\\right)^{6} \\right] $$\n"
   ]
  },
  {
   "cell_type": "code",
   "execution_count": 7,
   "metadata": {},
   "outputs": [],
   "source": [
    "import math"
   ]
  },
  {
   "cell_type": "code",
   "execution_count": 8,
   "metadata": {},
   "outputs": [],
   "source": [
    "def calculate_LJ(r_ij):\n",
    "    \"\"\"\n",
    "    The LJ interaction energy between two particles.\n",
    "    \n",
    "    Computes the pairwise Lennard-Jones interaction energy based on the separation distance in reduced units.\n",
    "    \n",
    "    Parameters:\n",
    "    ```````````\n",
    "    r_ij : float\n",
    "        The separation distance in reduced units.\n",
    "    \n",
    "    Returns:\n",
    "    ````````\n",
    "    pairwise energy : float\n",
    "        The pairwise Lennard-Jones interaction energy in reduced units.\n",
    "    \"\"\"\n",
    "    \n",
    "    inverse = 1/r_ij\n",
    "    pairwise_energy = 4 *(math.pow(inverse, 12) - math.pow(inverse, 6))\n",
    "    return pairwise_energy"
   ]
  },
  {
   "cell_type": "code",
   "execution_count": 9,
   "metadata": {},
   "outputs": [],
   "source": [
    "assert calculate_LJ(1) == 0\n",
    "assert calculate_LJ(math.pow(2, 1/6)) == -1"
   ]
  },
  {
   "cell_type": "code",
   "execution_count": 22,
   "metadata": {},
   "outputs": [
    {
     "name": "stdout",
     "output_type": "stream",
     "text": [
      "not none\n"
     ]
    }
   ],
   "source": [
    "a = 1\n",
    "if a is not None:\n",
    "    print('not none')"
   ]
  },
  {
   "cell_type": "code",
   "execution_count": 69,
   "metadata": {},
   "outputs": [],
   "source": [
    "def calculate_distance(coord1, coord2, box_length = None):\n",
    "    \"\"\"\n",
    "    Calculate the distance between two points. When box_length is set, we use the the minimum image convention to calculate.\n",
    "    \n",
    "    Parameters:\n",
    "    ```````````\n",
    "    coord1, coord2 : list\n",
    "        The atomic coordinates [x, y, z]\n",
    "        \n",
    "    box_length : float, optional\n",
    "        The box length. The function assumes the box is a cube.\n",
    "    \n",
    "    Returns:\n",
    "    ````````\n",
    "    distance : float\n",
    "        The distance between the two atoms.\n",
    "    \"\"\"\n",
    "    distance = 0\n",
    "    for i in range(len(coord1)):\n",
    "        coord_dist = coord1[i] - coord2[i]\n",
    "        if box_length:\n",
    "            if abs(coord_dist) > box_length / 2:\n",
    "                coord_dist = coord_dist - (box_length * round(coord_dist / box_length))\n",
    "        distance += coord_dist**2\n",
    "        \n",
    "    distance = math.sqrt(distance)\n",
    "    \n",
    "    return distance"
   ]
  },
  {
   "cell_type": "code",
   "execution_count": 75,
   "metadata": {},
   "outputs": [],
   "source": [
    "point1 = [0,0,0]\n",
    "point2 = [0,0,8]\n",
    "\n",
    "dist1 = calculate_distance(point1, point2, box_length = 10)\n",
    "assert dist1 == 2\n",
    "\n",
    "point3 = [0,0,0]\n",
    "point4 = [0,1,1]\n",
    "\n",
    "dist2 = calculate_distance(point3, point4)\n",
    "assert dist2 == math.sqrt(2)"
   ]
  },
  {
   "cell_type": "code",
   "execution_count": 28,
   "metadata": {},
   "outputs": [],
   "source": [
    "coordinates = [[0, 0, 0], [0, math.pow(2, 1/6), 0], [0, 2*math.pow(2, 1/6), 0]]"
   ]
  },
  {
   "cell_type": "code",
   "execution_count": 55,
   "metadata": {},
   "outputs": [],
   "source": [
    "def calculate_total_energy(coords, cutoff):\n",
    "    \"\"\"\n",
    "    Calculates the total interaction energy existing among a set of coordinates.\n",
    "    \n",
    "    Parameters:\n",
    "    ```````````\n",
    "    coords : list\n",
    "        Nested list of coordinates [x,y,z]\n",
    "    cutoff : float\n",
    "        The cutoff distance for the system\n",
    "        \n",
    "    Returns:\n",
    "    ````````\n",
    "    total_energy : float\n",
    "        The total interaction energy calculated from LJ potential.\n",
    "    \"\"\"\n",
    "    \n",
    "    total_energy = 0\n",
    "    \n",
    "    for i in range(len(coords)):\n",
    "        for j in range(i+1, len(coords)):\n",
    "            dist = calculate_distance(coords[i], coords[j], box_length)\n",
    "            if dist < cutoff:\n",
    "                energy = calculate_LJ(dist)\n",
    "                total_energy += energy\n",
    "    \n",
    "    return total_energy"
   ]
  },
  {
   "cell_type": "code",
   "execution_count": 30,
   "metadata": {
    "scrolled": true
   },
   "outputs": [
    {
     "data": {
      "text/plain": [
       "-2.031005859375"
      ]
     },
     "execution_count": 30,
     "metadata": {},
     "output_type": "execute_result"
    }
   ],
   "source": [
    "calculate_total_energy(coordinates, math.inf)"
   ]
  },
  {
   "cell_type": "markdown",
   "metadata": {},
   "source": [
    "## Calculating energy from NIST data"
   ]
  },
  {
   "cell_type": "code",
   "execution_count": 18,
   "metadata": {},
   "outputs": [],
   "source": [
    "import os"
   ]
  },
  {
   "cell_type": "code",
   "execution_count": 19,
   "metadata": {},
   "outputs": [],
   "source": [
    "def read_xyz(filepath):\n",
    "    \"\"\"\n",
    "    Reads coordinates from an xyz file.\n",
    "    \n",
    "    Parameters\n",
    "    ----------\n",
    "    filepath : str\n",
    "       The path to the xyz file to be processed.\n",
    "       \n",
    "    Returns\n",
    "    -------\n",
    "    atomic_coordinates : list\n",
    "        A two dimensional list containing atomic coordinates\n",
    "    \"\"\"\n",
    "    \n",
    "    with open(filepath) as f:\n",
    "        box_length = float(f.readline().split()[0])\n",
    "        num_atoms = float(f.readline())\n",
    "        coordinates = f.readlines()\n",
    "    \n",
    "    atomic_coordinates = []\n",
    "    \n",
    "    for atom in coordinates:\n",
    "        split_atoms = atom.split()\n",
    "        \n",
    "        float_coords = []\n",
    "        \n",
    "        # We split this way to get rid of the atom label.\n",
    "        for coord in split_atoms[1:]:\n",
    "            float_coords.append(float(coord))\n",
    "            \n",
    "        atomic_coordinates.append(float_coords)\n",
    "        \n",
    "    \n",
    "    return atomic_coordinates, box_length\n"
   ]
  },
  {
   "cell_type": "code",
   "execution_count": 49,
   "metadata": {},
   "outputs": [],
   "source": [
    "filename = os.path.join('lj_sample_configurations', 'lj_sample_config_periodic1.txt')\n",
    "atomic_coordinates, box_length = read_xyz(filename)"
   ]
  },
  {
   "cell_type": "code",
   "execution_count": 74,
   "metadata": {
    "scrolled": false
   },
   "outputs": [],
   "source": [
    "assert math.isclose(calculate_total_energy(atomic_coordinates, 3), -4.3515E+03, rel_tol = 0.01)"
   ]
  }
 ],
 "metadata": {
  "kernelspec": {
   "display_name": "Python 3",
   "language": "python",
   "name": "python3"
  },
  "language_info": {
   "codemirror_mode": {
    "name": "ipython",
    "version": 3
   },
   "file_extension": ".py",
   "mimetype": "text/x-python",
   "name": "python",
   "nbconvert_exporter": "python",
   "pygments_lexer": "ipython3",
   "version": "3.7.7"
  }
 },
 "nbformat": 4,
 "nbformat_minor": 4
}
