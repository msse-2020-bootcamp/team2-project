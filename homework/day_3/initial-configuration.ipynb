{
 "cells": [
  {
   "cell_type": "markdown",
   "metadata": {},
   "source": [
    "# Initial configuration"
   ]
  },
  {
   "cell_type": "code",
   "execution_count": null,
   "metadata": {},
   "outputs": [],
   "source": [
    "import random"
   ]
  },
  {
   "cell_type": "code",
   "execution_count": null,
   "metadata": {},
   "outputs": [],
   "source": [
    "def init_config(num_particles, box_length):\n",
    "    \"\"\"\n",
    "    Generates initial system configuration from a number of particles and box length.\n",
    "    \n",
    "    Parameters:\n",
    "    -----------\n",
    "    num_particles : int\n",
    "        The number of particles desired in configuration.\n",
    "        \n",
    "    box_length : float\n",
    "        The length of the simulation box.\n",
    "    \n",
    "    Returns:\n",
    "    --------\n",
    "    coordinates : list\n",
    "        Nested list of coordinates [x,y,z] in configuration.\n",
    "        \n",
    "    box_length : float\n",
    "        The length of the simulation box.\n",
    "    \n",
    "    \"\"\"\n",
    "    coordinates = []\n",
    "    \n",
    "    for i in range(num_particles):\n",
    "        # generate random coordinates\n",
    "        x = random.uniform(0, box_length)\n",
    "        y = random.uniform(0, box_length)\n",
    "        z = random.uniform(0, box_length)\n",
    "        \n",
    "        # add (x, y, z) to the list\n",
    "        coordinates.append([x, y, z])\n",
    "    \n",
    "    return coordinates, box_length"
   ]
  }
 ],
 "metadata": {
  "kernelspec": {
   "display_name": "Python 3",
   "language": "python",
   "name": "python3"
  },
  "language_info": {
   "codemirror_mode": {
    "name": "ipython",
    "version": 3
   },
   "file_extension": ".py",
   "mimetype": "text/x-python",
   "name": "python",
   "nbconvert_exporter": "python",
   "pygments_lexer": "ipython3",
   "version": "3.7.7"
  }
 },
 "nbformat": 4,
 "nbformat_minor": 4
}
