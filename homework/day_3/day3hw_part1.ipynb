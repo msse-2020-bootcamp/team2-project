{
 "cells": [
  {
   "cell_type": "code",
   "execution_count": null,
   "metadata": {},
   "outputs": [],
   "source": [
    "import math\n",
    "Tlst = [0.4, 0.9, 1.4]\n",
    "energies = [x/10 for x in range(-20,21,1)]\n",
    "print(energies)"
   ]
  },
  {
   "cell_type": "code",
   "execution_count": null,
   "metadata": {},
   "outputs": [],
   "source": [
    "\n",
    "def prob_temp(temp):\n",
    "    \"\"\"\n",
    "    Takes in a temperature and returns the probability of acceptance of a Monte Carlo move.\n",
    "    \n",
    "    Parameters\n",
    "    ``````````\n",
    "    temp: float\n",
    "        the temperature in reduced units.\n",
    "    \n",
    "    Returns\n",
    "    ```````\n",
    "    prob: list\n",
    "        a list of the probabilities of acceptance relative to the temp.\n",
    "    \"\"\"\n",
    "    prob = []\n",
    "    beta = 1/temp\n",
    "    for i in energies:\n",
    "        if i<0:\n",
    "            prob.append(1)\n",
    "        else:\n",
    "            prob.append(math.exp(-beta*i))\n",
    "    \n",
    "    return prob"
   ]
  },
  {
   "cell_type": "code",
   "execution_count": null,
   "metadata": {},
   "outputs": [],
   "source": [
    "prob_04temp = prob_temp(Tlst[0])\n",
    "prob_09temp = prob_temp(Tlst[1])\n",
    "prob_14temp = prob_temp(Tlst[2])"
   ]
  },
  {
   "cell_type": "code",
   "execution_count": null,
   "metadata": {
    "scrolled": false
   },
   "outputs": [],
   "source": [
    "import matplotlib.pyplot as plt\n",
    "\n",
    "%matplotlib notebook\n",
    "\n",
    "fig = plt.figure()\n",
    "ax = fig.add_subplot(111)\n",
    "ax.set_ylabel('probability of acceptance')\n",
    "ax.set_xlabel('energy')\n",
    "\n",
    "plt.plot(energies, prob_04temp, label = \"T = 0.4\")\n",
    "\n",
    "\n",
    "plt.plot(energies, prob_09temp, label = \"T = 0.9\")\n",
    "\n",
    "\n",
    "plt.plot(energies, prob_14temp, label = \"T = 1.4\")\n",
    "plt.legend()"
   ]
  },
  {
   "cell_type": "markdown",
   "metadata": {},
   "source": [
    "As seen on the plot: as long as energy is above 0.0, if the temperature increases, so does the probability of acceptance."
   ]
  },
  {
   "cell_type": "code",
   "execution_count": null,
   "metadata": {},
   "outputs": [],
   "source": []
  }
 ],
 "metadata": {
  "kernelspec": {
   "display_name": "Python 3",
   "language": "python",
   "name": "python3"
  },
  "language_info": {
   "codemirror_mode": {
    "name": "ipython",
    "version": 3
   },
   "file_extension": ".py",
   "mimetype": "text/x-python",
   "name": "python",
   "nbconvert_exporter": "python",
   "pygments_lexer": "ipython3",
   "version": "3.7.7"
  }
 },
 "nbformat": 4,
 "nbformat_minor": 4
}
