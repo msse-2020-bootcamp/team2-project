{
 "cells": [
  {
   "cell_type": "markdown",
   "metadata": {},
   "source": [
    "# Rewriting the calculate_distance function\n",
    "\n",
    "We will be rewriting the calculate distance function, implementing using numpy."
   ]
  },
  {
   "cell_type": "code",
   "execution_count": null,
   "metadata": {},
   "outputs": [],
   "source": [
    "import numpy as np\n",
    "import math"
   ]
  },
  {
   "cell_type": "code",
   "execution_count": null,
   "metadata": {},
   "outputs": [],
   "source": [
    "def calculate_distance(coord1, coord2, box_length=None):\n",
    "    \"\"\"\n",
    "    Calculate the distance between two 3D coordinates.\n",
    "    Parameters\n",
    "    ----------\n",
    "    coord1, coord2: list\n",
    "        The atomic coordinates\n",
    "    box_length : float\n",
    "        The box length. If given, the minimum image convention will be used to calculate the distance.\n",
    "\n",
    "    Returns\n",
    "    -------\n",
    "    distance: float\n",
    "        The distance between the two points.\n",
    "    \"\"\"\n",
    "    distance = 0\n",
    "    for i in range(3):\n",
    "        dim_dist = (coord1[i] - coord2[i])\n",
    "        if box_length:\n",
    "            dim_dist = dim_dist - box_length * round(dim_dist / box_length)\n",
    "        dim_dist = dim_dist**2\n",
    "        distance += dim_dist\n",
    "    distance = math.sqrt(distance)\n",
    "    return distance\n",
    "\n",
    "def calculate_distance_np(point1, point2, box_length = None):\n",
    "    \"\"\"\n",
    "    Calculate the distance between two 3D coordinates.\n",
    "    Parameters\n",
    "    ----------\n",
    "    coord1, coord2: np.ndarray\n",
    "        The atomic coordinates\n",
    "\n",
    "    Returns\n",
    "    -------\n",
    "    distance: float\n",
    "        The distance between the two points.\n",
    "    \"\"\"\n",
    "    dim_dist = point1 - point2\n",
    "    if box_length:\n",
    "        dim_dist = dim_dist - box_length*np.round(dim_dist/box_length)\n",
    "    \n",
    "    dim_dist = dim_dist ** 2\n",
    "    if dim_dist.ndim < 2:\n",
    "        dim_dist = dim_dist.reshape(1, -1)\n",
    "\n",
    "\n",
    "    distance = np.sqrt(dim_dist.sum(axis=1))\n",
    "    return distance"
   ]
  },
  {
   "cell_type": "code",
   "execution_count": null,
   "metadata": {},
   "outputs": [],
   "source": [
    "point1 = np.array([0,0,0])\n",
    "point2 = np.array([0,8,0])\n",
    "\n",
    "print(calculate_distance(point1,point2))\n",
    "print(calculate_distance_np(point1,point2))\n",
    "print(calculate_distance_np(point1,point2,10))"
   ]
  },
  {
   "cell_type": "code",
   "execution_count": null,
   "metadata": {},
   "outputs": [],
   "source": [
    "coord_set1 = np.array([[0,0,0], [0,1,0]])\n",
    "coord_set2 = np.array([[0,8,0], [0,1.5,0]])\n",
    "\n",
    "calculate_distance_np(coord_set1, coord_set2, 10)"
   ]
  }
 ],
 "metadata": {
  "kernelspec": {
   "display_name": "Python 3",
   "language": "python",
   "name": "python3"
  },
  "language_info": {
   "codemirror_mode": {
    "name": "ipython",
    "version": 3
   },
   "file_extension": ".py",
   "mimetype": "text/x-python",
   "name": "python",
   "nbconvert_exporter": "python",
   "pygments_lexer": "ipython3",
   "version": "3.7.7"
  }
 },
 "nbformat": 4,
 "nbformat_minor": 4
}
